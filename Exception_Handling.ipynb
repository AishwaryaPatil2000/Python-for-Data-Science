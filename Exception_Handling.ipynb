{
  "nbformat": 4,
  "nbformat_minor": 0,
  "metadata": {
    "colab": {
      "provenance": [],
      "authorship_tag": "ABX9TyOncnYPJVry69CLuAHxm+tI",
      "include_colab_link": true
    },
    "kernelspec": {
      "name": "python3",
      "display_name": "Python 3"
    },
    "language_info": {
      "name": "python"
    }
  },
  "cells": [
    {
      "cell_type": "markdown",
      "metadata": {
        "id": "view-in-github",
        "colab_type": "text"
      },
      "source": [
        "<a href=\"https://colab.research.google.com/github/AishwaryaPatil2000/Python-for-Data-Science/blob/main/Exception_Handling.ipynb\" target=\"_parent\"><img src=\"https://colab.research.google.com/assets/colab-badge.svg\" alt=\"Open In Colab\"/></a>"
      ]
    },
    {
      "cell_type": "code",
      "execution_count": 1,
      "metadata": {
        "colab": {
          "base_uri": "https://localhost:8080/",
          "height": 175
        },
        "id": "8SMVtJsgqZx1",
        "outputId": "72dceb9b-e0f3-499b-c5a5-c6ddefb6700e"
      },
      "outputs": [
        {
          "output_type": "error",
          "ename": "NameError",
          "evalue": "name 'b' is not defined",
          "traceback": [
            "\u001b[0;31m---------------------------------------------------------------------------\u001b[0m",
            "\u001b[0;31mNameError\u001b[0m                                 Traceback (most recent call last)",
            "\u001b[0;32m<ipython-input-1-488068fe1e94>\u001b[0m in \u001b[0;36m<cell line: 1>\u001b[0;34m()\u001b[0m\n\u001b[0;32m----> 1\u001b[0;31m \u001b[0ma\u001b[0m\u001b[0;34m=\u001b[0m\u001b[0mb\u001b[0m\u001b[0;34m\u001b[0m\u001b[0;34m\u001b[0m\u001b[0m\n\u001b[0m",
            "\u001b[0;31mNameError\u001b[0m: name 'b' is not defined"
          ]
        }
      ],
      "source": [
        "a=b"
      ]
    },
    {
      "cell_type": "code",
      "source": [
        "# Here NameError is an exception\n",
        "# We will handle the exception using TRY and EXCEPT method\n",
        "\n",
        "try:\n",
        "    ##code block where exception can occur\n",
        "    a=b\n",
        "except Exception as e:          #Here the same NameError exception gets printed\n",
        "  print(e)\n"
      ],
      "metadata": {
        "colab": {
          "base_uri": "https://localhost:8080/"
        },
        "id": "T-5OhibaEJq0",
        "outputId": "bb2aa86a-7300-401f-fcd6-eef9e35ab586"
      },
      "execution_count": 2,
      "outputs": [
        {
          "output_type": "stream",
          "name": "stdout",
          "text": [
            "name 'b' is not defined\n"
          ]
        }
      ]
    },
    {
      "cell_type": "code",
      "source": [
        "#If we want to show some more understandable error message ,then we can do that using the exception name\n",
        "\n",
        "try:\n",
        "  a=b\n",
        "except NameError as e1:\n",
        "  print(\"The user has not defined the variable\")\n",
        "except Exception as e:\n",
        "  print(e)\n",
        "\n"
      ],
      "metadata": {
        "colab": {
          "base_uri": "https://localhost:8080/"
        },
        "id": "0OuD53RrEwsB",
        "outputId": "39c06f9a-b1f6-49a9-a373-9ca401052cac"
      },
      "execution_count": 6,
      "outputs": [
        {
          "output_type": "stream",
          "name": "stdout",
          "text": [
            "The user has not defined the variable\n"
          ]
        }
      ]
    },
    {
      "cell_type": "code",
      "source": [],
      "metadata": {
        "id": "6N6fQ4VbFgj8"
      },
      "execution_count": null,
      "outputs": []
    },
    {
      "cell_type": "markdown",
      "source": [
        "Since we already knew the kind of exception,we gave our error message but if the code block throws different kind of exception ,then that will be caught by last except block **except Exception as e:**\n",
        "This block should always be at the last"
      ],
      "metadata": {
        "id": "cjGkNhM-GNpO"
      }
    },
    {
      "cell_type": "code",
      "source": [
        "a=1\n",
        "b=\"s\"\n",
        "c=a+b"
      ],
      "metadata": {
        "colab": {
          "base_uri": "https://localhost:8080/",
          "height": 210
        },
        "id": "G6Fdq9w5G59E",
        "outputId": "abe5f92b-e030-4940-cad7-fab1657e4458"
      },
      "execution_count": 9,
      "outputs": [
        {
          "output_type": "error",
          "ename": "TypeError",
          "evalue": "unsupported operand type(s) for +: 'int' and 'str'",
          "traceback": [
            "\u001b[0;31m---------------------------------------------------------------------------\u001b[0m",
            "\u001b[0;31mTypeError\u001b[0m                                 Traceback (most recent call last)",
            "\u001b[0;32m<ipython-input-9-9b96ead189f1>\u001b[0m in \u001b[0;36m<cell line: 3>\u001b[0;34m()\u001b[0m\n\u001b[1;32m      1\u001b[0m \u001b[0ma\u001b[0m\u001b[0;34m=\u001b[0m\u001b[0;36m1\u001b[0m\u001b[0;34m\u001b[0m\u001b[0;34m\u001b[0m\u001b[0m\n\u001b[1;32m      2\u001b[0m \u001b[0mb\u001b[0m\u001b[0;34m=\u001b[0m\u001b[0;34m\"s\"\u001b[0m\u001b[0;34m\u001b[0m\u001b[0;34m\u001b[0m\u001b[0m\n\u001b[0;32m----> 3\u001b[0;31m \u001b[0mc\u001b[0m\u001b[0;34m=\u001b[0m\u001b[0ma\u001b[0m\u001b[0;34m+\u001b[0m\u001b[0mb\u001b[0m\u001b[0;34m\u001b[0m\u001b[0;34m\u001b[0m\u001b[0m\n\u001b[0m",
            "\u001b[0;31mTypeError\u001b[0m: unsupported operand type(s) for +: 'int' and 'str'"
          ]
        }
      ]
    },
    {
      "cell_type": "code",
      "source": [
        "try:\n",
        "  a=1\n",
        "  b=\"s\"\n",
        "  c=a+b\n",
        "except NameError:\n",
        "  print(\"The user has not defined the variable\")\n",
        "except TypeError:\n",
        "  print(\"Cannot add int and string\")\n",
        "except Exception as e:\n",
        "  print(e)\n"
      ],
      "metadata": {
        "colab": {
          "base_uri": "https://localhost:8080/"
        },
        "id": "JlIOq5J3GqiE",
        "outputId": "52caf814-54cd-4cef-b158-c83f78bf5de6"
      },
      "execution_count": 11,
      "outputs": [
        {
          "output_type": "stream",
          "name": "stdout",
          "text": [
            "Cannot add int and string\n"
          ]
        }
      ]
    },
    {
      "cell_type": "code",
      "source": [
        "a=int(input(\"Enter number 1 : \"))\n",
        "b=int(input(\"Enter number 2 : \"))\n",
        "c=a/b\n",
        "d=a*b\n",
        "e=a+b"
      ],
      "metadata": {
        "colab": {
          "base_uri": "https://localhost:8080/",
          "height": 279
        },
        "id": "hAJuqirEHwuF",
        "outputId": "b7f2e437-5d44-4f5e-fb3f-ac6fc9af2182"
      },
      "execution_count": 13,
      "outputs": [
        {
          "name": "stdout",
          "output_type": "stream",
          "text": [
            "Enter number 1 : 1\n",
            "Enter number 2 : 0\n"
          ]
        },
        {
          "output_type": "error",
          "ename": "ZeroDivisionError",
          "evalue": "division by zero",
          "traceback": [
            "\u001b[0;31m---------------------------------------------------------------------------\u001b[0m",
            "\u001b[0;31mZeroDivisionError\u001b[0m                         Traceback (most recent call last)",
            "\u001b[0;32m<ipython-input-13-45b3048213b8>\u001b[0m in \u001b[0;36m<cell line: 3>\u001b[0;34m()\u001b[0m\n\u001b[1;32m      1\u001b[0m \u001b[0ma\u001b[0m\u001b[0;34m=\u001b[0m\u001b[0mint\u001b[0m\u001b[0;34m(\u001b[0m\u001b[0minput\u001b[0m\u001b[0;34m(\u001b[0m\u001b[0;34m\"Enter number 1 : \"\u001b[0m\u001b[0;34m)\u001b[0m\u001b[0;34m)\u001b[0m\u001b[0;34m\u001b[0m\u001b[0;34m\u001b[0m\u001b[0m\n\u001b[1;32m      2\u001b[0m \u001b[0mb\u001b[0m\u001b[0;34m=\u001b[0m\u001b[0mint\u001b[0m\u001b[0;34m(\u001b[0m\u001b[0minput\u001b[0m\u001b[0;34m(\u001b[0m\u001b[0;34m\"Enter number 2 : \"\u001b[0m\u001b[0;34m)\u001b[0m\u001b[0;34m)\u001b[0m\u001b[0;34m\u001b[0m\u001b[0;34m\u001b[0m\u001b[0m\n\u001b[0;32m----> 3\u001b[0;31m \u001b[0mc\u001b[0m\u001b[0;34m=\u001b[0m\u001b[0ma\u001b[0m\u001b[0;34m/\u001b[0m\u001b[0mb\u001b[0m\u001b[0;34m\u001b[0m\u001b[0;34m\u001b[0m\u001b[0m\n\u001b[0m\u001b[1;32m      4\u001b[0m \u001b[0md\u001b[0m\u001b[0;34m=\u001b[0m\u001b[0ma\u001b[0m\u001b[0;34m*\u001b[0m\u001b[0mb\u001b[0m\u001b[0;34m\u001b[0m\u001b[0;34m\u001b[0m\u001b[0m\n\u001b[1;32m      5\u001b[0m \u001b[0me\u001b[0m\u001b[0;34m=\u001b[0m\u001b[0ma\u001b[0m\u001b[0;34m+\u001b[0m\u001b[0mb\u001b[0m\u001b[0;34m\u001b[0m\u001b[0;34m\u001b[0m\u001b[0m\n",
            "\u001b[0;31mZeroDivisionError\u001b[0m: division by zero"
          ]
        }
      ]
    },
    {
      "cell_type": "code",
      "source": [
        "try:\n",
        "  a=int(input(\"Enter number 1 : \"))\n",
        "  b=int(input(\"Enter number 2 : \"))\n",
        "  c=a/b\n",
        "  d=a*b\n",
        "  e=a+b\n",
        "except NameError:\n",
        "  print(\"The user has not defined the variable\")\n",
        "except ZeroDivisionError:\n",
        "  print(\"Cannot divide a number by 0\")\n",
        "except TypeError:\n",
        "  print(\"Cannot add int and string\")\n",
        "except Exception as e:\n",
        "  print(e)"
      ],
      "metadata": {
        "colab": {
          "base_uri": "https://localhost:8080/"
        },
        "id": "CrWul6HlG2wH",
        "outputId": "e436fbe4-adde-4727-abcf-1088bf596aa6"
      },
      "execution_count": 14,
      "outputs": [
        {
          "output_type": "stream",
          "name": "stdout",
          "text": [
            "Enter number 1 : 1\n",
            "Enter number 2 : 0\n",
            "Cannot divide a number by 0\n"
          ]
        }
      ]
    },
    {
      "cell_type": "code",
      "source": [],
      "metadata": {
        "id": "ixYQTMF1HoT5"
      },
      "execution_count": null,
      "outputs": []
    },
    {
      "cell_type": "markdown",
      "source": [
        "## Try Else"
      ],
      "metadata": {
        "id": "9f6G1YGVIf12"
      }
    },
    {
      "cell_type": "code",
      "source": [
        "try:\n",
        "  a=int(input(\"Enter number 1 : \"))\n",
        "  b=int(input(\"Enter number 2 : \"))\n",
        "  c=a/b\n",
        "  d=a*b\n",
        "  e=a+b\n",
        "except NameError:\n",
        "  print(\"The user has not defined the variable\")\n",
        "except ZeroDivisionError:\n",
        "  print(\"Cannot divide a number by 0\")\n",
        "except TypeError:\n",
        "  print(\"Cannot add int and string\")\n",
        "except Exception as e:\n",
        "  print(e)\n",
        "\n",
        "else:\n",
        "  print(c)\n",
        "  print(d)\n",
        "  print(e)"
      ],
      "metadata": {
        "colab": {
          "base_uri": "https://localhost:8080/"
        },
        "id": "YeDE26xpIjCw",
        "outputId": "1ba2c8b1-84e2-4b24-e276-617e7863dc9c"
      },
      "execution_count": 18,
      "outputs": [
        {
          "output_type": "stream",
          "name": "stdout",
          "text": [
            "Enter number 1 : 6\n",
            "Enter number 2 : 2\n",
            "3.0\n",
            "12\n",
            "8\n"
          ]
        }
      ]
    },
    {
      "cell_type": "markdown",
      "source": [
        "##Try Else Finally\n",
        "\n",
        "If there are any exceptions ,then they will be handled by except block\n",
        "\n",
        "If there are no exceptions ,then it will directly move to else block\n",
        "\n",
        "If there is finally block it will get printed even if there is any exception\n",
        "\n",
        "Finally block can be used when we need to test a DataBase connnection and if it encounters an error ,connection can be closed using finally block"
      ],
      "metadata": {
        "id": "p1FnSJrMJI1N"
      }
    },
    {
      "cell_type": "code",
      "source": [
        "try:\n",
        "  a=int(input(\"Enter number 1 : \"))\n",
        "  b=int(input(\"Enter number 2 : \"))\n",
        "  c=a/b\n",
        "except NameError:\n",
        "  print(\"The user has not defined the variable\")\n",
        "except ZeroDivisionError:\n",
        "  print(\"Cannot divide a number by 0\")\n",
        "except TypeError:\n",
        "  print(\"Cannot add int and string\")\n",
        "except Exception as e:\n",
        "  print(e)\n",
        "\n",
        "else:\n",
        "  print(c)\n",
        "\n",
        "finally:\n",
        "  print(\"The execution is done\")\n"
      ],
      "metadata": {
        "colab": {
          "base_uri": "https://localhost:8080/"
        },
        "id": "27sUybM6Izm1",
        "outputId": "6834bef0-1f5d-4a9f-8e44-d961c0adbea1"
      },
      "execution_count": 20,
      "outputs": [
        {
          "output_type": "stream",
          "name": "stdout",
          "text": [
            "Enter number 1 : 1\n",
            "Enter number 2 : 0\n",
            "Cannot divide a number by 0\n",
            "The execution is done\n"
          ]
        }
      ]
    },
    {
      "cell_type": "markdown",
      "source": [
        "##Custom Exception"
      ],
      "metadata": {
        "id": "Z3gHhN0bNFpn"
      }
    },
    {
      "cell_type": "code",
      "source": [
        "class Error(Exception):\n",
        "  pass\n",
        "\n",
        "class dobException(Error):  #dobexception class is our custom class which inherits Error class\n",
        "  pass"
      ],
      "metadata": {
        "id": "vswPgi_DJpwh"
      },
      "execution_count": 21,
      "outputs": []
    },
    {
      "cell_type": "code",
      "source": [
        "year=int(input(\"Enter the birth year : \"))\n",
        "age=2024-year\n",
        "try:\n",
        "  if age<=30 & age>20:\n",
        "    print(age)\n",
        "    print(\"Age is valid for this task\")\n",
        "    pass\n",
        "  else:\n",
        "    raise dobException\n",
        "except dobException :\n",
        "  print(\"Your age is not valid for this task\")\n"
      ],
      "metadata": {
        "colab": {
          "base_uri": "https://localhost:8080/"
        },
        "id": "ogyQAe4xOlzi",
        "outputId": "23e7642f-ae73-43db-b27a-267692ba7bd0"
      },
      "execution_count": 26,
      "outputs": [
        {
          "output_type": "stream",
          "name": "stdout",
          "text": [
            "Enter the birth year : 2000\n",
            "24\n",
            "Age is valid for this task\n"
          ]
        }
      ]
    },
    {
      "cell_type": "code",
      "source": [],
      "metadata": {
        "id": "vbJIBSFcPVcW"
      },
      "execution_count": null,
      "outputs": []
    }
  ]
}