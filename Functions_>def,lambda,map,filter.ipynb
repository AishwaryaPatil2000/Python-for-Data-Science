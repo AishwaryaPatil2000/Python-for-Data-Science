{
  "nbformat": 4,
  "nbformat_minor": 0,
  "metadata": {
    "colab": {
      "provenance": [],
      "authorship_tag": "ABX9TyOA1VhzVpIlgJbeBFslgY1t",
      "include_colab_link": true
    },
    "kernelspec": {
      "name": "python3",
      "display_name": "Python 3"
    },
    "language_info": {
      "name": "python"
    }
  },
  "cells": [
    {
      "cell_type": "markdown",
      "metadata": {
        "id": "view-in-github",
        "colab_type": "text"
      },
      "source": [
        "<a href=\"https://colab.research.google.com/github/AishwaryaPatil2000/Python-for-Data-Science/blob/main/Functions_%3Edef%2Clambda%2Cmap%2Cfilter.ipynb\" target=\"_parent\"><img src=\"https://colab.research.google.com/assets/colab-badge.svg\" alt=\"Open In Colab\"/></a>"
      ]
    },
    {
      "cell_type": "code",
      "execution_count": null,
      "metadata": {
        "id": "j4pJYTQh-VsK"
      },
      "outputs": [],
      "source": []
    },
    {
      "cell_type": "markdown",
      "source": [
        "#Functions in Python\n",
        "\n",
        "\n",
        "\n",
        "\n"
      ],
      "metadata": {
        "id": "MoZ2x99xkcuC"
      }
    },
    {
      "cell_type": "code",
      "source": [
        "#Positional argument ==>In the given example ,num is positional argument,its value is not specified while defining the fun ,instead it is defined while calling the function\n",
        "\n",
        "num=int(input(\"enter a num : \"))\n",
        "def even_num(num):\n",
        "  if num%2==0:\n",
        "    print(\"{} is an even number\".format(num))\n",
        "  else:\n",
        "    print(\"{} is an odd number\".format(num))\n",
        "\n",
        "even_num(num)"
      ],
      "metadata": {
        "colab": {
          "base_uri": "https://localhost:8080/"
        },
        "id": "wZ7_pDLDi2vA",
        "outputId": "a8261f36-be5d-4b8d-a3aa-0d40d8fe4d8e"
      },
      "execution_count": 5,
      "outputs": [
        {
          "output_type": "stream",
          "name": "stdout",
          "text": [
            "enter a num : 10\n",
            "10 is an even number\n"
          ]
        }
      ]
    },
    {
      "cell_type": "markdown",
      "source": [
        "##Difference between print and return statements\n",
        "\n",
        "print() prints a value to the screen. That value is not accessible to or used by the rest of the code. return returns a value from a function back to the code that called it, allowing that value to be used later on."
      ],
      "metadata": {
        "id": "fcl1ithMZO9P"
      }
    },
    {
      "cell_type": "code",
      "source": [
        "#difference between print and return\n",
        "def hello_world():\n",
        "  print(\"hello World\")"
      ],
      "metadata": {
        "id": "B2ZDUZe5k08G"
      },
      "execution_count": 1,
      "outputs": []
    },
    {
      "cell_type": "code",
      "source": [
        "val = hello_world()    #calling the fun and storing it in a variable"
      ],
      "metadata": {
        "colab": {
          "base_uri": "https://localhost:8080/"
        },
        "id": "dK0DC4RflSex",
        "outputId": "e476a8aa-21b9-4980-8682-a8a16df3727d"
      },
      "execution_count": 2,
      "outputs": [
        {
          "output_type": "stream",
          "name": "stdout",
          "text": [
            "hello World\n"
          ]
        }
      ]
    },
    {
      "cell_type": "code",
      "source": [
        "#printing thr value stored in the variable\n",
        "print(val)\n",
        "\n",
        "#here if we see the val variable has no value stored in it"
      ],
      "metadata": {
        "colab": {
          "base_uri": "https://localhost:8080/"
        },
        "id": "8er0S2W0YD1L",
        "outputId": "4963af6e-2d8d-4396-dc74-cb3a2a67cb14"
      },
      "execution_count": 3,
      "outputs": [
        {
          "output_type": "stream",
          "name": "stdout",
          "text": [
            "None\n"
          ]
        }
      ]
    },
    {
      "cell_type": "code",
      "source": [
        "def hello_world():\n",
        "  return \"hello World\""
      ],
      "metadata": {
        "id": "KPngiyKTYF9O"
      },
      "execution_count": 5,
      "outputs": []
    },
    {
      "cell_type": "code",
      "source": [
        "val1 = hello_world()"
      ],
      "metadata": {
        "id": "EU9Q4YHTYtf0"
      },
      "execution_count": 7,
      "outputs": []
    },
    {
      "cell_type": "code",
      "source": [
        "print(val1)               #here the value is getting stored in the variable"
      ],
      "metadata": {
        "colab": {
          "base_uri": "https://localhost:8080/"
        },
        "id": "1Lvj0z4NYm74",
        "outputId": "6f7ba0fe-d16b-48b7-8733-99ac754aac98"
      },
      "execution_count": 8,
      "outputs": [
        {
          "output_type": "stream",
          "name": "stdout",
          "text": [
            "hello World\n"
          ]
        }
      ]
    },
    {
      "cell_type": "code",
      "source": [],
      "metadata": {
        "id": "PPJFPo5RYq42"
      },
      "execution_count": null,
      "outputs": []
    },
    {
      "cell_type": "markdown",
      "source": [
        "#Positional and Keyword args\n",
        "\n",
        "![image.png](data:image/png;base64,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)"
      ],
      "metadata": {
        "id": "MBLqF6xUZg47"
      }
    },
    {
      "cell_type": "code",
      "source": [
        "#In the fiven function,name is positional arg and age is keyword arg whose values are in key value pair format\n",
        "#since age is defined while defining the fun,but default it takes up that value but can also be given while calling the function\n",
        "\n",
        "\n",
        "def hello_fun(name,age=20):\n",
        "  print(\"my name is {} and age is {}\".format(name,age))\n"
      ],
      "metadata": {
        "id": "xdT-r_H2Zkxr"
      },
      "execution_count": 12,
      "outputs": []
    },
    {
      "cell_type": "code",
      "source": [
        "hello_fun(\"Aishwarya\")"
      ],
      "metadata": {
        "colab": {
          "base_uri": "https://localhost:8080/"
        },
        "id": "VlERYR1MaWt9",
        "outputId": "ea6f83bc-2bd0-4dbc-df8d-8793b0a31add"
      },
      "execution_count": 13,
      "outputs": [
        {
          "output_type": "stream",
          "name": "stdout",
          "text": [
            "my name is Aishwarya and age is 20\n"
          ]
        }
      ]
    },
    {
      "cell_type": "code",
      "source": [
        "hello_fun(\"Aish\",age=5)"
      ],
      "metadata": {
        "colab": {
          "base_uri": "https://localhost:8080/"
        },
        "id": "ZN5DZ8aKbaA7",
        "outputId": "0521e4d4-e727-41c9-de8e-0cb28f4c5eb4"
      },
      "execution_count": 18,
      "outputs": [
        {
          "output_type": "stream",
          "name": "stdout",
          "text": [
            "my name is Aish and age is 5\n"
          ]
        }
      ]
    },
    {
      "cell_type": "code",
      "source": [
        "hello_fun(age=5,\"Aish\")     #order matters"
      ],
      "metadata": {
        "colab": {
          "base_uri": "https://localhost:8080/",
          "height": 140
        },
        "id": "MoNqM-i5bstw",
        "outputId": "d702de68-3fe0-4941-8438-4b209153533a"
      },
      "execution_count": 19,
      "outputs": [
        {
          "output_type": "error",
          "ename": "SyntaxError",
          "evalue": "ignored",
          "traceback": [
            "\u001b[0;36m  File \u001b[0;32m\"<ipython-input-19-ec320f40b8da>\"\u001b[0;36m, line \u001b[0;32m1\u001b[0m\n\u001b[0;31m    hello_fun(age=5,\"Aish\")\u001b[0m\n\u001b[0m                          ^\u001b[0m\n\u001b[0;31mSyntaxError\u001b[0m\u001b[0;31m:\u001b[0m positional argument follows keyword argument\n"
          ]
        }
      ]
    },
    {
      "cell_type": "code",
      "source": [
        "hello_fun()      #always positional args should be defined while calling the function"
      ],
      "metadata": {
        "colab": {
          "base_uri": "https://localhost:8080/",
          "height": 175
        },
        "id": "4JBq2oZ4aacx",
        "outputId": "403b35ed-02f1-4a8d-9d7b-43d3ca14a8c6"
      },
      "execution_count": 14,
      "outputs": [
        {
          "output_type": "error",
          "ename": "TypeError",
          "evalue": "ignored",
          "traceback": [
            "\u001b[0;31m---------------------------------------------------------------------------\u001b[0m",
            "\u001b[0;31mTypeError\u001b[0m                                 Traceback (most recent call last)",
            "\u001b[0;32m<ipython-input-14-37bbc4338b9d>\u001b[0m in \u001b[0;36m<cell line: 1>\u001b[0;34m()\u001b[0m\n\u001b[0;32m----> 1\u001b[0;31m \u001b[0mhello_fun\u001b[0m\u001b[0;34m(\u001b[0m\u001b[0;34m)\u001b[0m\u001b[0;34m\u001b[0m\u001b[0;34m\u001b[0m\u001b[0m\n\u001b[0m",
            "\u001b[0;31mTypeError\u001b[0m: hello_fun() missing 1 required positional argument: 'name'"
          ]
        }
      ]
    },
    {
      "cell_type": "code",
      "source": [
        "def hellooo(name,age):\n",
        "  print(\"my name is {} and age is {}\".format(name,age))"
      ],
      "metadata": {
        "id": "dM9EIHZaalVZ"
      },
      "execution_count": 15,
      "outputs": []
    },
    {
      "cell_type": "code",
      "source": [
        "hellooo(\"Aish\",\"23\")"
      ],
      "metadata": {
        "colab": {
          "base_uri": "https://localhost:8080/"
        },
        "id": "DtvhYilBaz44",
        "outputId": "9f49e602-ac7c-4305-db76-e5f117928847"
      },
      "execution_count": 16,
      "outputs": [
        {
          "output_type": "stream",
          "name": "stdout",
          "text": [
            "my name is Aish and age is 23\n"
          ]
        }
      ]
    },
    {
      "cell_type": "code",
      "source": [
        "hellooo(\"Aish\")"
      ],
      "metadata": {
        "colab": {
          "base_uri": "https://localhost:8080/",
          "height": 175
        },
        "id": "I_3hyStQa7Ot",
        "outputId": "ea7172da-6c2f-4483-805a-eb5cb329f2b0"
      },
      "execution_count": 17,
      "outputs": [
        {
          "output_type": "error",
          "ename": "TypeError",
          "evalue": "ignored",
          "traceback": [
            "\u001b[0;31m---------------------------------------------------------------------------\u001b[0m",
            "\u001b[0;31mTypeError\u001b[0m                                 Traceback (most recent call last)",
            "\u001b[0;32m<ipython-input-17-0df0378db2e5>\u001b[0m in \u001b[0;36m<cell line: 1>\u001b[0;34m()\u001b[0m\n\u001b[0;32m----> 1\u001b[0;31m \u001b[0mhellooo\u001b[0m\u001b[0;34m(\u001b[0m\u001b[0;34m\"Aish\"\u001b[0m\u001b[0;34m)\u001b[0m\u001b[0;34m\u001b[0m\u001b[0;34m\u001b[0m\u001b[0m\n\u001b[0m",
            "\u001b[0;31mTypeError\u001b[0m: hellooo() missing 1 required positional argument: 'age'"
          ]
        }
      ]
    },
    {
      "cell_type": "markdown",
      "source": [
        "## args  ,kwargs\n",
        "\n",
        "these are used when number of args are not known while defining the fun .\n",
        "\n",
        " *args are positional arguments\n",
        "\n",
        "**kwargs are keyword arguments"
      ],
      "metadata": {
        "id": "B8Jv7ddeceGS"
      }
    },
    {
      "cell_type": "code",
      "source": [
        "def hola(*args ,**kwargs):\n",
        "  print(\"args are {}\".format(args))\n",
        "  print(\"kwargs are {}\".format(kwargs))"
      ],
      "metadata": {
        "id": "Sr3LBhrSa_V8"
      },
      "execution_count": 26,
      "outputs": []
    },
    {
      "cell_type": "code",
      "source": [
        "hola(\"abcd\",\"aish\",age=20 ,dob=2000)"
      ],
      "metadata": {
        "colab": {
          "base_uri": "https://localhost:8080/"
        },
        "id": "Ma4pcIfHc7YC",
        "outputId": "9e2f2fe4-0ca6-4b7d-8597-9286d0d48faa"
      },
      "execution_count": 27,
      "outputs": [
        {
          "output_type": "stream",
          "name": "stdout",
          "text": [
            "args are ('abcd', 'aish')\n",
            "kwargs are {'age': 20, 'dob': 2000}\n"
          ]
        }
      ]
    },
    {
      "cell_type": "code",
      "source": [
        "lst=['Aishwarya',\"Patil\"]\n",
        "dict_arg={\"age\":23 , \"dob\":2000}\n",
        "\n",
        "hola(*lst,**dict_arg)\n"
      ],
      "metadata": {
        "colab": {
          "base_uri": "https://localhost:8080/"
        },
        "id": "US7rBDzAdKE0",
        "outputId": "2725a0c4-c9ad-4fc2-a48e-31756642ab53"
      },
      "execution_count": 28,
      "outputs": [
        {
          "output_type": "stream",
          "name": "stdout",
          "text": [
            "args are ('Aishwarya', 'Patil')\n",
            "kwargs are {'age': 23, 'dob': 2000}\n"
          ]
        }
      ]
    },
    {
      "cell_type": "code",
      "source": [
        "lst=[1,2,3,4,5,6,7]\n",
        "\n",
        "def evenoddsum(listt):\n",
        "  even_sum=0\n",
        "  odd_sum=0\n",
        "  for i in listt:\n",
        "    if i%2==0:\n",
        "      even_sum= even_sum + i\n",
        "    else:\n",
        "      odd_sum =odd_sum +i\n",
        "\n",
        "  return even_sum,odd_sum"
      ],
      "metadata": {
        "id": "n7lqlWSver8i"
      },
      "execution_count": 30,
      "outputs": []
    },
    {
      "cell_type": "code",
      "source": [
        "evenoddsum(lst)"
      ],
      "metadata": {
        "colab": {
          "base_uri": "https://localhost:8080/"
        },
        "id": "1Jd7lKUufgEo",
        "outputId": "0ecc71d2-0542-4b4c-f20d-c01005414bdc"
      },
      "execution_count": 31,
      "outputs": [
        {
          "output_type": "execute_result",
          "data": {
            "text/plain": [
              "(12, 16)"
            ]
          },
          "metadata": {},
          "execution_count": 31
        }
      ]
    },
    {
      "cell_type": "code",
      "source": [],
      "metadata": {
        "id": "5hzh8Ng0fpPd"
      },
      "execution_count": null,
      "outputs": []
    },
    {
      "cell_type": "markdown",
      "source": [
        "#Lambda Function\n",
        "\n",
        "anonymous function\n",
        "single line function"
      ],
      "metadata": {
        "id": "XTGEnPz5grbs"
      }
    },
    {
      "cell_type": "code",
      "source": [
        "def add(a,b):\n",
        "  return a+b\n",
        "\n",
        "add(4,5)"
      ],
      "metadata": {
        "colab": {
          "base_uri": "https://localhost:8080/"
        },
        "id": "1w8XnH4mgzAQ",
        "outputId": "23000d46-5365-4ad6-f207-a9a3fc457cf5"
      },
      "execution_count": 32,
      "outputs": [
        {
          "output_type": "execute_result",
          "data": {
            "text/plain": [
              "9"
            ]
          },
          "metadata": {},
          "execution_count": 32
        }
      ]
    },
    {
      "cell_type": "code",
      "source": [
        "sum=lambda a,b:a+b\n",
        "sum(2,4)"
      ],
      "metadata": {
        "colab": {
          "base_uri": "https://localhost:8080/"
        },
        "id": "AoJfv_cWg74O",
        "outputId": "3aee1034-6106-4319-a804-a014f0901cb7"
      },
      "execution_count": 34,
      "outputs": [
        {
          "output_type": "execute_result",
          "data": {
            "text/plain": [
              "6"
            ]
          },
          "metadata": {},
          "execution_count": 34
        }
      ]
    },
    {
      "cell_type": "code",
      "source": [
        "def even(num):\n",
        "  if num%2==0:\n",
        "    return True\n",
        "\n",
        "even(24)"
      ],
      "metadata": {
        "colab": {
          "base_uri": "https://localhost:8080/"
        },
        "id": "Z9DEq2zyhJqB",
        "outputId": "7f3947c6-7828-467e-b184-f784bb735386"
      },
      "execution_count": 35,
      "outputs": [
        {
          "output_type": "execute_result",
          "data": {
            "text/plain": [
              "True"
            ]
          },
          "metadata": {},
          "execution_count": 35
        }
      ]
    },
    {
      "cell_type": "code",
      "source": [
        "even1=lambda a :a%2==0\n",
        "even1(1)"
      ],
      "metadata": {
        "colab": {
          "base_uri": "https://localhost:8080/"
        },
        "id": "3QKgvlfuhimi",
        "outputId": "1332df07-7d3b-4d3c-cb65-587ceb5e8568"
      },
      "execution_count": 40,
      "outputs": [
        {
          "output_type": "execute_result",
          "data": {
            "text/plain": [
              "False"
            ]
          },
          "metadata": {},
          "execution_count": 40
        }
      ]
    },
    {
      "cell_type": "code",
      "source": [],
      "metadata": {
        "id": "qIGupG_5hrt4"
      },
      "execution_count": null,
      "outputs": []
    },
    {
      "cell_type": "markdown",
      "source": [
        "#Map function"
      ],
      "metadata": {
        "id": "wkYPIaIGmLQ4"
      }
    },
    {
      "cell_type": "code",
      "source": [
        "def even_num(num):\n",
        "  if num%2==0:\n",
        "    print(\"{} is an even number\".format(num))\n",
        "  else:\n",
        "    print(\"{} is an odd number\".format(num))\n",
        "\n",
        "even_num(24)"
      ],
      "metadata": {
        "colab": {
          "base_uri": "https://localhost:8080/"
        },
        "id": "RysN3nPpmQk0",
        "outputId": "73396301-582d-4ade-e08b-70b35716ff62"
      },
      "execution_count": 41,
      "outputs": [
        {
          "output_type": "stream",
          "name": "stdout",
          "text": [
            "24 is an even number\n"
          ]
        }
      ]
    },
    {
      "cell_type": "code",
      "source": [
        "lst=[1,2,3,4,5,6,7]\n",
        "\n",
        "def evenodd(listt):\n",
        "  for i in listt:\n",
        "    if i%2==0:\n",
        "      print(\"{} is even number\".format(i))\n",
        "    else:\n",
        "       print(\"{} is odd number\".format(i))\n",
        "\n",
        "evenodd(lst)"
      ],
      "metadata": {
        "colab": {
          "base_uri": "https://localhost:8080/"
        },
        "id": "Jxl6wfaJm8Tr",
        "outputId": "2c81fd49-912f-447e-9749-ba36b36d9b37"
      },
      "execution_count": 43,
      "outputs": [
        {
          "output_type": "stream",
          "name": "stdout",
          "text": [
            "1 is odd number\n",
            "2 is even number\n",
            "3 is odd number\n",
            "4 is even number\n",
            "5 is odd number\n",
            "6 is even number\n",
            "7 is odd number\n"
          ]
        }
      ]
    },
    {
      "cell_type": "code",
      "source": [
        "#map function\n",
        "#It is used when we need to iterate the function through a list of values\n",
        "\n",
        "lst=[1,2,3,4,5,6,7]\n",
        "\n",
        "#no looping while defining fun\n",
        "def evenodd(num):\n",
        "    if num%2==0:\n",
        "      return \"{} is even number\".format(num)\n",
        "    else:\n",
        "       return \"{} is odd number\".format(num)"
      ],
      "metadata": {
        "id": "66_V7FQkngGv"
      },
      "execution_count": 47,
      "outputs": []
    },
    {
      "cell_type": "code",
      "source": [
        "map(evenodd,lst)"
      ],
      "metadata": {
        "colab": {
          "base_uri": "https://localhost:8080/"
        },
        "id": "C49YFlCloLFB",
        "outputId": "83964388-57c1-4ec6-bb5a-bf8b10fba0ff"
      },
      "execution_count": 48,
      "outputs": [
        {
          "output_type": "execute_result",
          "data": {
            "text/plain": [
              "<map at 0x7cd7fb58bc70>"
            ]
          },
          "metadata": {},
          "execution_count": 48
        }
      ]
    },
    {
      "cell_type": "code",
      "source": [
        "list(map(evenodd,lst))       #map(function_name , values)"
      ],
      "metadata": {
        "colab": {
          "base_uri": "https://localhost:8080/"
        },
        "id": "6iubkktToTZK",
        "outputId": "47ba48ea-e988-426a-ed12-75bbbaada9bd"
      },
      "execution_count": 50,
      "outputs": [
        {
          "output_type": "execute_result",
          "data": {
            "text/plain": [
              "['1 is odd number',\n",
              " '2 is even number',\n",
              " '3 is odd number',\n",
              " '4 is even number',\n",
              " '5 is odd number',\n",
              " '6 is even number',\n",
              " '7 is odd number']"
            ]
          },
          "metadata": {},
          "execution_count": 50
        }
      ]
    },
    {
      "cell_type": "markdown",
      "source": [
        "#Filter function\n",
        "\n",
        "this function iterates through the values and returns only tose values which are true"
      ],
      "metadata": {
        "id": "iyN-tv05o6TP"
      }
    },
    {
      "cell_type": "code",
      "source": [
        "def even(num):\n",
        "  if num%2==0:\n",
        "    return True"
      ],
      "metadata": {
        "id": "YwY4c4ZMpLyS"
      },
      "execution_count": 53,
      "outputs": []
    },
    {
      "cell_type": "code",
      "source": [
        "lst=[1,2,3,4,5,6,7,8,9,10]"
      ],
      "metadata": {
        "id": "26BMXjSJpWeA"
      },
      "execution_count": 54,
      "outputs": []
    },
    {
      "cell_type": "code",
      "source": [
        "filter(even ,lst)"
      ],
      "metadata": {
        "colab": {
          "base_uri": "https://localhost:8080/"
        },
        "id": "XHFNspwNoXwc",
        "outputId": "047b49d1-7e36-4529-a9cc-673c1b590513"
      },
      "execution_count": 55,
      "outputs": [
        {
          "output_type": "execute_result",
          "data": {
            "text/plain": [
              "<filter at 0x7cd7fb58a1d0>"
            ]
          },
          "metadata": {},
          "execution_count": 55
        }
      ]
    },
    {
      "cell_type": "code",
      "source": [
        "list(filter(even ,lst))"
      ],
      "metadata": {
        "colab": {
          "base_uri": "https://localhost:8080/"
        },
        "id": "7_Eb1wjLpC7L",
        "outputId": "c2562894-45ab-4488-e2cf-6d37d8d5f8a2"
      },
      "execution_count": 56,
      "outputs": [
        {
          "output_type": "execute_result",
          "data": {
            "text/plain": [
              "[2, 4, 6, 8, 10]"
            ]
          },
          "metadata": {},
          "execution_count": 56
        }
      ]
    },
    {
      "cell_type": "code",
      "source": [
        "list(filter(lambda a :a%2==0 , lst))"
      ],
      "metadata": {
        "colab": {
          "base_uri": "https://localhost:8080/"
        },
        "id": "uT4HdDxtpFkb",
        "outputId": "4c6f7ddb-bcc9-4400-b503-7a629caf2630"
      },
      "execution_count": 58,
      "outputs": [
        {
          "output_type": "execute_result",
          "data": {
            "text/plain": [
              "[2, 4, 6, 8, 10]"
            ]
          },
          "metadata": {},
          "execution_count": 58
        }
      ]
    },
    {
      "cell_type": "code",
      "source": [
        "list(map(lambda a :a%2==0 , lst))"
      ],
      "metadata": {
        "colab": {
          "base_uri": "https://localhost:8080/"
        },
        "id": "Sz_6iY9Yp6jW",
        "outputId": "3d94a635-0b64-48ec-d507-ff83b232623a"
      },
      "execution_count": 59,
      "outputs": [
        {
          "output_type": "execute_result",
          "data": {
            "text/plain": [
              "[False, True, False, True, False, True, False, True, False, True]"
            ]
          },
          "metadata": {},
          "execution_count": 59
        }
      ]
    },
    {
      "cell_type": "code",
      "source": [],
      "metadata": {
        "id": "ORcJnfmkqC4-"
      },
      "execution_count": null,
      "outputs": []
    }
  ]
}